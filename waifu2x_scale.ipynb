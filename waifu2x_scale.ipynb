{
 "cells": [
  {
   "cell_type": "code",
   "execution_count": null,
   "metadata": {},
   "outputs": [],
   "source": [
    "class config:\n",
    "    def __init__(self,gpu,uinput,output,quality,model_dir,scale_ratio,tta,batch_size,block_size,extension,arch,method,noise_level,color,tta_level,width,height,shorter_side,longer_side):\n",
    "        self.gpu = gpu\n",
    "        self.uinput = uinput\n",
    "        self.output = output\n",
    "        self.quality = quality\n",
    "        self.model_dir = model_dir\n",
    "        self.scale_ratio = scale_ratio\n",
    "        self.tta = tta\n",
    "        self.batch_size = batch_size\n",
    "        self.block_size = block_size\n",
    "        self.extension = extension\n",
    "        self.arch = arch\n",
    "        self.method = method\n",
    "        self.noise_level = noise_level\n",
    "        self.color = color\n",
    "        self.tta_level = tta_level\n",
    "        self.width = width\n",
    "        self.height = height\n",
    "        self.shorter_side = shorter_side\n",
    "        self.longer_side = longer_side\n",
    "    def set_defaults(self):\n",
    "        self.gpu = -1\n",
    "        self.uinput = 'images/small.png'\n",
    "        self.output = './scaled/'\n",
    "        self.quality = None\n",
    "        self.model_dir = None\n",
    "        self.scale_ratio = 2.0\n",
    "        self.tta = None\n",
    "        self.batch_size = 16\n",
    "        self.block_size = 128\n",
    "        self.extension = \"png\"\n",
    "        self.arch = \"VGG7\"\n",
    "        self.method = \"scale\"\n",
    "        self.noise_level = 0\n",
    "        self.color = 'rgb'\n",
    "        self.tta_level = 8\n",
    "        self.width = 0\n",
    "        self.height = 0\n",
    "        self.shorter_side = 0\n",
    "        self.longer_side = 0\n",
    "    def setInput(self,sinput):\n",
    "        self.uinput = sinput\n",
    "    def setOutput(self,soutput):\n",
    "        self.output = soutput"
   ]
  },
  {
   "cell_type": "code",
   "execution_count": null,
   "metadata": {},
   "outputs": [],
   "source": [
    "cfg = config(None,None,None,None,None,None,None,None,None,None,None,None,None,None,None,None,None,None,None)\n",
    "cfg.set_defaults()"
   ]
  },
  {
   "cell_type": "code",
   "execution_count": null,
   "metadata": {},
   "outputs": [],
   "source": [
    "import os\n",
    "import waifu2x\n",
    "entries = []\n",
    "\n",
    "# for entry in os.scandir(\"C:\\\\work\\\\all\\\\\"):\n",
    "#     if entry.path.endswith(\".tif\") and entry.is_file():\n",
    "#         entries.append(entry.path)\n",
    "\n",
    "#Set Output Folder\n",
    "cfg.setOutput(None)\n",
    "# for i in range(1):\n",
    "#     cfg.setInput(entries[i])\n",
    "#     waifu2x.main(cfg)\n",
    "\n",
    "#Set Input File\n",
    "cfg.setInput(None)\n",
    "waifu2x.main(cfg)"
   ]
  },
  {
   "cell_type": "code",
   "execution_count": null,
   "metadata": {},
   "outputs": [],
   "source": [
    "import import_ipynb\n",
    "import test"
   ]
  }
 ],
 "metadata": {
  "kernelspec": {
   "display_name": "Python 3",
   "language": "python",
   "name": "python3"
  },
  "language_info": {
   "codemirror_mode": {
    "name": "ipython",
    "version": 3
   },
   "file_extension": ".py",
   "mimetype": "text/x-python",
   "name": "python",
   "nbconvert_exporter": "python",
   "pygments_lexer": "ipython3",
   "version": "3.7.0"
  }
 },
 "nbformat": 4,
 "nbformat_minor": 2
}
