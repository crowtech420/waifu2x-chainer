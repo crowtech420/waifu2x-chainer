{
 "cells": [
  {
   "cell_type": "code",
   "execution_count": 1,
   "metadata": {},
   "outputs": [],
   "source": [
    "class config:\n",
    "    def __init__(self,gpu,uinput,output,quality,model_dir,scale_ratio,tta,batch_size,block_size,extension,arch,method,noise_level,color,tta_level,width,height,shorter_side,longer_side):\n",
    "        self.gpu = gpu\n",
    "        self.uinput = uinput\n",
    "        self.output = output\n",
    "        self.quality = quality\n",
    "        self.model_dir = model_dir\n",
    "        self.scale_ratio = scale_ratio\n",
    "        self.tta = tta\n",
    "        self.batch_size = batch_size\n",
    "        self.block_size = block_size\n",
    "        self.extension = extension\n",
    "        self.arch = arch\n",
    "        self.method = method\n",
    "        self.noise_level = noise_level\n",
    "        self.color = color\n",
    "        self.tta_level = tta_level\n",
    "        self.width = width\n",
    "        self.height = height\n",
    "        self.shorter_side = shorter_side\n",
    "        self.longer_side = longer_side\n",
    "    def set_defaults(self):\n",
    "        self.gpu = -1\n",
    "        self.uinput = 'images/small.png'\n",
    "        self.output = './scaled/'\n",
    "        self.quality = None\n",
    "        self.model_dir = None\n",
    "        self.scale_ratio = 2.0\n",
    "        self.tta = None\n",
    "        self.batch_size = 16\n",
    "        self.block_size = 128\n",
    "        self.extension = \"png\"\n",
    "        self.arch = \"UpResNet10\"\n",
    "        self.method = \"scale\"\n",
    "        self.noise_level = 1\n",
    "        self.color = 'rgb'\n",
    "        self.tta_level = 8\n",
    "        self.width = 0\n",
    "        self.height = 0\n",
    "        self.shorter_side = 0\n",
    "        self.longer_side = 0\n",
    "    def setInput(self,sinput):\n",
    "        self.uinput = sinput\n",
    "    def setOutput(self,soutput):\n",
    "        self.output = soutput"
   ]
  },
  {
   "cell_type": "code",
   "execution_count": 2,
   "metadata": {},
   "outputs": [],
   "source": [
    "cfg = config(None,None,None,None,None,None,None,None,None,None,None,None,None,None,None,None,None,None,None)\n",
    "cfg.set_defaults()"
   ]
  },
  {
   "cell_type": "code",
   "execution_count": 3,
   "metadata": {},
   "outputs": [],
   "source": [
    "import os\n",
    "import waifu2x\n",
    "import cv2\n",
    "import numpy as np\n",
    "from matplotlib import pyplot as plt\n",
    "import time"
   ]
  },
  {
   "cell_type": "code",
   "execution_count": 4,
   "metadata": {},
   "outputs": [],
   "source": [
    "entries = []\n",
    "for entry in os.scandir(\"C:\\\\testimg\\\\\"):\n",
    "    if entry.path.endswith(\".jpg\") and entry.is_file():\n",
    "        entries.append(entry.name)\n",
    "# for scaledentry in os.scandir('C:\\\\work\\\\imnew\\\\scaled\\\\'):\n",
    "#     if scaledentry.path.endswith(\".png\") and scaledentry.is_file():\n",
    "#         newfname = str(scaledentry.name).replace(\"png\",\"tif\")\n",
    "#         entries.remove(newfname)"
   ]
  },
  {
   "cell_type": "code",
   "execution_count": null,
   "metadata": {},
   "outputs": [
    {
     "name": "stdout",
     "output_type": "stream",
     "text": [
      "2.0x scaling... OK\n",
      "Saved as 'C:\\work\\testimg\\scaled\\000.png'\n",
      "Elapsed  57.06900906562805\n",
      "2.0x scaling... OK\n",
      "Saved as 'C:\\work\\testimg\\scaled\\001.png'\n",
      "Elapsed  51.85894584655762\n",
      "2.0x scaling... OK\n",
      "Saved as 'C:\\work\\testimg\\scaled\\002.png'\n",
      "Elapsed  53.90354371070862\n",
      "2.0x scaling... OK\n",
      "Saved as 'C:\\work\\testimg\\scaled\\003.png'\n",
      "Elapsed  52.11209845542908\n",
      "2.0x scaling... OK\n",
      "Saved as 'C:\\work\\testimg\\scaled\\004.png'\n",
      "Elapsed  57.046284675598145\n",
      "2.0x scaling... OK\n",
      "Saved as 'C:\\work\\testimg\\scaled\\005.png'\n",
      "Elapsed  36.03480291366577\n",
      "2.0x scaling... OK\n",
      "Saved as 'C:\\work\\testimg\\scaled\\006.png'\n",
      "Elapsed  69.09098815917969\n",
      "2.0x scaling... OK\n",
      "Saved as 'C:\\work\\testimg\\scaled\\007.png'\n",
      "Elapsed  45.47848296165466\n",
      "2.0x scaling... OK\n",
      "Saved as 'C:\\work\\testimg\\scaled\\008.png'\n",
      "Elapsed  163.37587714195251\n",
      "2.0x scaling... OK\n",
      "Saved as 'C:\\work\\testimg\\scaled\\009.png'\n",
      "Elapsed  138.31089162826538\n",
      "2.0x scaling... OK\n",
      "Saved as 'C:\\work\\testimg\\scaled\\010.png'\n",
      "Elapsed  164.70557284355164\n",
      "2.0x scaling... "
     ]
    }
   ],
   "source": [
    "cfg.setOutput('C:\\\\work\\\\testimg\\\\scaled\\\\')\n",
    "average = 0\n",
    "total = 0\n",
    "for q in range(20):\n",
    "    try:\n",
    "        direc = 'C:\\\\testimg\\\\' + entries[q]\n",
    "        cfg.setInput(direc)\n",
    "        t = time.time()\n",
    "        waifu2x.main(cfg)\n",
    "        elapsed = time.time() - t\n",
    "        print(\"Elapsed \", elapsed)\n",
    "        average += elapsed\n",
    "        total += 1\n",
    "    except:\n",
    "        continue\n",
    "print(\"Average time \", (average/total))"
   ]
  },
  {
   "cell_type": "code",
   "execution_count": null,
   "metadata": {},
   "outputs": [],
   "source": []
  }
 ],
 "metadata": {
  "kernelspec": {
   "display_name": "Python 3",
   "language": "python",
   "name": "python3"
  },
  "language_info": {
   "codemirror_mode": {
    "name": "ipython",
    "version": 3
   },
   "file_extension": ".py",
   "mimetype": "text/x-python",
   "name": "python",
   "nbconvert_exporter": "python",
   "pygments_lexer": "ipython3",
   "version": "3.7.0"
  }
 },
 "nbformat": 4,
 "nbformat_minor": 2
}
